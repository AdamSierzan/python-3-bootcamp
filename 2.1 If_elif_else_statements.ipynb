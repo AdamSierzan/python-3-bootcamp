{
 "cells": [
  {
   "cell_type": "markdown",
   "metadata": {},
   "source": [
    "Control flow:\n",
    "    it allows us to execute code when a ceratin candition has been met\n",
    "    "
   ]
  },
  {
   "cell_type": "markdown",
   "metadata": {},
   "source": [
    "Control Flow syntax makes use of colons and indentation"
   ]
  },
  {
   "cell_type": "markdown",
   "metadata": {},
   "source": [
    "It's crucial and is what sets it apart from other programming languages"
   ]
  },
  {
   "cell_type": "markdown",
   "metadata": {},
   "source": [
    "if some_condition:\n",
    "    #execute\n",
    " \n",
    "elif some_other_condition:\n",
    "    # do something different"
   ]
  },
  {
   "cell_type": "markdown",
   "metadata": {},
   "source": [
    "else:\n",
    "    #do smth else"
   ]
  },
  {
   "cell_type": "code",
   "execution_count": 7,
   "metadata": {},
   "outputs": [
    {
     "name": "stdout",
     "output_type": "stream",
     "text": [
      "it's true!\n"
     ]
    }
   ],
   "source": [
    "if True:\n",
    "    print(\"it's true!\")"
   ]
  },
  {
   "cell_type": "code",
   "execution_count": 8,
   "metadata": {},
   "outputs": [
    {
     "name": "stdout",
     "output_type": "stream",
     "text": [
      "it's true\n"
     ]
    }
   ],
   "source": [
    "if 3 > 2:\n",
    "    print(\"it's true\")"
   ]
  },
  {
   "cell_type": "code",
   "execution_count": 9,
   "metadata": {},
   "outputs": [
    {
     "name": "stdout",
     "output_type": "stream",
     "text": [
      "feed me\n"
     ]
    }
   ],
   "source": [
    "hungry = True\n",
    "if hungry:\n",
    "    print(\"feed me\")"
   ]
  },
  {
   "cell_type": "code",
   "execution_count": 10,
   "metadata": {},
   "outputs": [],
   "source": [
    "hungry = False\n",
    "if hungry:\n",
    "    print(\"feed me\")"
   ]
  },
  {
   "cell_type": "code",
   "execution_count": 14,
   "metadata": {},
   "outputs": [
    {
     "name": "stdout",
     "output_type": "stream",
     "text": [
      "I'm not hungry\n"
     ]
    }
   ],
   "source": [
    "hungry = False\n",
    "if hungry:\n",
    "    print(\"print me!\")\n",
    "else:\n",
    "    print(\"I'm not hungry\")"
   ]
  },
  {
   "cell_type": "code",
   "execution_count": 18,
   "metadata": {},
   "outputs": [
    {
     "name": "stdout",
     "output_type": "stream",
     "text": [
      "money is cool\n"
     ]
    }
   ],
   "source": [
    "loc = \"bank\"\n",
    "\n",
    "if loc == \"auto shop\":\n",
    "    print(\"cars are cool\")\n",
    "elif loc == \"bank\":\n",
    "    print(\"money is cool\")\n",
    "else:\n",
    "    print(\"i dont know much\")"
   ]
  },
  {
   "cell_type": "code",
   "execution_count": 23,
   "metadata": {},
   "outputs": [
    {
     "name": "stdout",
     "output_type": "stream",
     "text": [
      "hi sammy\n"
     ]
    }
   ],
   "source": [
    "name = \"sammy\"\n",
    "if name == \"frankie\":\n",
    "    print(\"hi frankie\")\n",
    "elif name == 'sammy':\n",
    "    print(\"hi sammy\")\n",
    "else:\n",
    "    input(\"what's your name?\")"
   ]
  },
  {
   "cell_type": "code",
   "execution_count": null,
   "metadata": {},
   "outputs": [],
   "source": []
  }
 ],
 "metadata": {
  "kernelspec": {
   "display_name": "Python 3",
   "language": "python",
   "name": "python3"
  },
  "language_info": {
   "codemirror_mode": {
    "name": "ipython",
    "version": 3
   },
   "file_extension": ".py",
   "mimetype": "text/x-python",
   "name": "python",
   "nbconvert_exporter": "python",
   "pygments_lexer": "ipython3",
   "version": "3.7.6"
  }
 },
 "nbformat": 4,
 "nbformat_minor": 4
}
