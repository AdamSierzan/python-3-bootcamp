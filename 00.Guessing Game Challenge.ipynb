{
 "cells": [
  {
   "cell_type": "markdown",
   "metadata": {},
   "source": [
    "# Guessing Game Challenge\n",
    "\n",
    "Let's use `while` loops to create a guessing game.\n",
    "\n",
    "The Challenge:\n",
    "\n",
    "Write a program that picks a random integer from 1 to 100, and has players guess the number. The rules are:\n",
    "\n",
    "1. If a player's guess is less than 1 or greater than 100, say \"OUT OF BOUNDS\"\n",
    "2. On a player's first turn, if their guess is\n",
    " * within 10 of the number, return \"WARM!\"\n",
    " * further than 10 away from the number, return \"COLD!\"\n",
    "3. On all subsequent turns, if a guess is \n",
    " * closer to the number than the previous guess return \"WARMER!\"\n",
    " * farther from the number than the previous guess, return \"COLDER!\"\n",
    "4. When the player's guess equals the number, tell them they've guessed correctly *and* how many guesses it took!\n",
    "\n",
    "You can try this from scratch, or follow the steps outlined below. A separate Solution notebook has been provided. Good luck!\n"
   ]
  },
  {
   "cell_type": "markdown",
   "metadata": {},
   "source": []
  },
  {
   "cell_type": "code",
   "execution_count": 1,
   "metadata": {},
   "outputs": [
    {
     "ename": "SyntaxError",
     "evalue": "invalid syntax (<ipython-input-1-9a9ac693166c>, line 43)",
     "output_type": "error",
     "traceback": [
      "\u001b[0;36m  File \u001b[0;32m\"<ipython-input-1-9a9ac693166c>\"\u001b[0;36m, line \u001b[0;32m43\u001b[0m\n\u001b[0;31m    elif players_guess == the_number_to_guess:\u001b[0m\n\u001b[0m       ^\u001b[0m\n\u001b[0;31mSyntaxError\u001b[0m\u001b[0;31m:\u001b[0m invalid syntax\n"
     ]
    }
   ],
   "source": [
    "import random\n",
    "print(\"WELCOME TO GUESS ME!\")\n",
    "print(\"I'm thinking of a number between 1 and 100\")\n",
    "print(\"If your guess is more than 10 away from my number, I'll tell you you're COLD\")\n",
    "print(\"If your guess is within 10 of my number, I'll tell you you're WARM\")\n",
    "print(\"If your guess is farther than your most recent guess, I'll say you're getting COLDER\")\n",
    "print(\"If your guess is closer than your most recent guess, I'll say you're getting WARMER\")\n",
    "print(\"LET'S PLAY!\")\n",
    "\n",
    "count = 0\n",
    "rounds = 0\n",
    "shots = []    \n",
    "the_number_to_guess = random.randint(1,101)\n",
    "\n",
    "while count == 0:\n",
    "    \n",
    "    players_guess = int(input(\"Type your number: \"))\n",
    "    shots.append(players_guess)\n",
    "\n",
    "    if players_guess > 100 or players_guess < 1:\n",
    "        print(\"Out of band\")\n",
    "    elif the_number_to_guess - players_guess <= 10:\n",
    "        print(\"Warm\")\n",
    "    elif the_number_to_guess - players_guess >= 10:\n",
    "        print(\"Cold\")\n",
    "    elif players_guess == the_number_to_guess:\n",
    "        print(\"You've guessed it\")\n",
    "        break\n",
    "    else:\n",
    "        continue\n",
    "    \n",
    "    count+=1\n",
    "    rounds+=1\n",
    "while count >= 1:\n",
    "    \n",
    "    players_guess = int(input(\"Type your number: \"))\n",
    "    \n",
    "    print(the_number_to_guess)\n",
    "    if players_guess > 100 or players_guess < 1:\n",
    "        print(\"Out of band\")\n",
    "    print(the_number_to_guess,playes_guess,shots[-1])\n",
    "    \n",
    "    elif players_guess == the_number_to_guess:\n",
    "        print(\"You've guessed it\")\n",
    "            break\n",
    "    elif (the_number_to_guess) - (players_guess) < (the_number_to_guess) - (shots[-1]):\n",
    "        print(\"warmer\")\n",
    "        \n",
    "    elif (the_number_to_guess) - (players_guess) > (the_number_to_guess) - (shots[-1]):\n",
    "        print(\"colder\")\n",
    "        \n",
    "    \n",
    "    shots.append(players_guess)\n",
    "\n",
    "    count+=1\n"
   ]
  },
  {
   "cell_type": "code",
   "execution_count": null,
   "metadata": {},
   "outputs": [],
   "source": []
  },
  {
   "cell_type": "code",
   "execution_count": null,
   "metadata": {},
   "outputs": [],
   "source": []
  },
  {
   "cell_type": "markdown",
   "metadata": {},
   "source": []
  },
  {
   "cell_type": "code",
   "execution_count": null,
   "metadata": {},
   "outputs": [],
   "source": []
  },
  {
   "cell_type": "markdown",
   "metadata": {},
   "source": []
  },
  {
   "cell_type": "code",
   "execution_count": null,
   "metadata": {},
   "outputs": [],
   "source": []
  },
  {
   "cell_type": "markdown",
   "metadata": {},
   "source": []
  },
  {
   "cell_type": "code",
   "execution_count": null,
   "metadata": {},
   "outputs": [],
   "source": []
  },
  {
   "cell_type": "markdown",
   "metadata": {},
   "source": [
    "That's it! You've just programmed your first game!\n",
    "\n",
    "In the next section we'll learn how to turn some of these repetitive actions into *functions* that can be called whenever we need them."
   ]
  },
  {
   "cell_type": "markdown",
   "metadata": {},
   "source": [
    "### Good Job!"
   ]
  },
  {
   "cell_type": "code",
   "execution_count": null,
   "metadata": {},
   "outputs": [],
   "source": []
  }
 ],
 "metadata": {
  "kernelspec": {
   "display_name": "Python 3",
   "language": "python",
   "name": "python3"
  },
  "language_info": {
   "codemirror_mode": {
    "name": "ipython",
    "version": 3
   },
   "file_extension": ".py",
   "mimetype": "text/x-python",
   "name": "python",
   "nbconvert_exporter": "python",
   "pygments_lexer": "ipython3",
   "version": "3.7.6"
  }
 },
 "nbformat": 4,
 "nbformat_minor": 2
}
